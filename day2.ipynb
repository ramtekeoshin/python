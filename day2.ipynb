{
 "cells": [
  {
   "cell_type": "markdown",
   "id": "3e7fbf2f-9468-496e-814e-b5bfb2b4489c",
   "metadata": {},
   "source": [
    "# String n string functions"
   ]
  },
  {
   "cell_type": "code",
   "execution_count": 16,
   "id": "fff78b95-f796-4b2c-81ca-7a7d2a81a6a9",
   "metadata": {},
   "outputs": [
    {
     "name": "stdout",
     "output_type": "stream",
     "text": [
      "My name is rahul\n"
     ]
    }
   ],
   "source": [
    "name = 'My name is rahul'\n",
    "print(name)"
   ]
  },
  {
   "cell_type": "code",
   "execution_count": 4,
   "id": "579f161c-6dd4-4449-adec-2e02a0caee69",
   "metadata": {},
   "outputs": [
    {
     "name": "stdout",
     "output_type": "stream",
     "text": [
      "Hello,Everyone\n"
     ]
    }
   ],
   "source": [
    "sentence = \"Hello,Everyone\"\n",
    "print(sentence)"
   ]
  },
  {
   "cell_type": "code",
   "execution_count": 6,
   "id": "38fdad90-18c1-4659-9341-8c4be803ce07",
   "metadata": {},
   "outputs": [
    {
     "name": "stdin",
     "output_type": "stream",
     "text": [
      "Enter your name: rohan\n"
     ]
    },
    {
     "name": "stdout",
     "output_type": "stream",
     "text": [
      "my name is rohan\n"
     ]
    }
   ],
   "source": [
    "name = input('Enter your name:')\n",
    "print(f'my name is {name}')"
   ]
  },
  {
   "cell_type": "code",
   "execution_count": 10,
   "id": "a16cfe3d-91ef-42d6-902d-51eb85fb0d0a",
   "metadata": {},
   "outputs": [
    {
     "name": "stdout",
     "output_type": "stream",
     "text": [
      "My firstname is rohan\n"
     ]
    }
   ],
   "source": [
    "print('My firstname is {}'.format(name))"
   ]
  },
  {
   "cell_type": "code",
   "execution_count": 14,
   "id": "7093e490-bcea-4fc4-b48a-30510f8ba102",
   "metadata": {},
   "outputs": [
    {
     "name": "stdout",
     "output_type": "stream",
     "text": [
      "My firstname is rohan and lastname is Chauhan\n"
     ]
    }
   ],
   "source": [
    "print('My firstname is {} and lastname is {}'.format(name,'Chauhan'))"
   ]
  },
  {
   "cell_type": "code",
   "execution_count": 19,
   "id": "370df1cb-ea78-40b5-8938-74b34a72b6b4",
   "metadata": {},
   "outputs": [
    {
     "name": "stdout",
     "output_type": "stream",
     "text": [
      "16\n"
     ]
    }
   ],
   "source": [
    "print(len(name))"
   ]
  },
  {
   "cell_type": "code",
   "execution_count": 21,
   "id": "9f71f109-7048-4cd8-939a-d41328182c44",
   "metadata": {},
   "outputs": [
    {
     "name": "stdout",
     "output_type": "stream",
     "text": [
      "43\n"
     ]
    }
   ],
   "source": [
    "a = str(4)\n",
    "b = str(3)\n",
    "print(a+b)"
   ]
  },
  {
   "cell_type": "code",
   "execution_count": 23,
   "id": "0c4c34ef-00f8-4bce-8629-f72b606104fc",
   "metadata": {},
   "outputs": [
    {
     "name": "stdout",
     "output_type": "stream",
     "text": [
      "MY NAME IS RAHUL\n"
     ]
    }
   ],
   "source": [
    "print(name.upper())"
   ]
  },
  {
   "cell_type": "code",
   "execution_count": 25,
   "id": "ff79c956-1d84-4233-b057-90f87cbfbd8b",
   "metadata": {},
   "outputs": [
    {
     "name": "stdout",
     "output_type": "stream",
     "text": [
      "My Name Is Goldy\n"
     ]
    }
   ],
   "source": [
    "print('my name is goldy'.title())"
   ]
  },
  {
   "cell_type": "code",
   "execution_count": 27,
   "id": "93d94e61-86b8-454d-9fb2-b76f77e9cbdc",
   "metadata": {},
   "outputs": [
    {
     "name": "stdout",
     "output_type": "stream",
     "text": [
      "Rohan was good\n"
     ]
    }
   ],
   "source": [
    "print('rohan was good'.capitalize())"
   ]
  },
  {
   "cell_type": "code",
   "execution_count": 29,
   "id": "0929da64-c262-41be-ad1d-cb771cd940e4",
   "metadata": {},
   "outputs": [
    {
     "name": "stdout",
     "output_type": "stream",
     "text": [
      "mY NAME IS RAHUL\n"
     ]
    }
   ],
   "source": [
    "print(name.swapcase())"
   ]
  },
  {
   "cell_type": "code",
   "execution_count": 31,
   "id": "5cf40da5-7eee-49eb-97e6-a8ad0581b396",
   "metadata": {},
   "outputs": [
    {
     "name": "stdout",
     "output_type": "stream",
     "text": [
      "        Hello       \n",
      "20\n"
     ]
    }
   ],
   "source": [
    "whitespace = \"        Hello       \"\n",
    "print(whitespace)\n",
    "print(len(whitespace))"
   ]
  },
  {
   "cell_type": "code",
   "execution_count": 33,
   "id": "102659dd-1546-436a-88e9-e8d731cb39aa",
   "metadata": {},
   "outputs": [
    {
     "name": "stdout",
     "output_type": "stream",
     "text": [
      "Hello\n"
     ]
    }
   ],
   "source": [
    "print(whitespace.strip())"
   ]
  },
  {
   "cell_type": "code",
   "execution_count": 35,
   "id": "3eaa4c18-4be8-4553-95bc-830f6d320715",
   "metadata": {},
   "outputs": [
    {
     "name": "stdout",
     "output_type": "stream",
     "text": [
      "Hello       \n"
     ]
    }
   ],
   "source": [
    "print(whitespace.lstrip())"
   ]
  },
  {
   "cell_type": "code",
   "execution_count": 37,
   "id": "edbc3276-2bb3-4a3e-9bdc-3a7eaa6a1107",
   "metadata": {},
   "outputs": [
    {
     "name": "stdout",
     "output_type": "stream",
     "text": [
      "        Hello\n"
     ]
    }
   ],
   "source": [
    "print(whitespace.rstrip())"
   ]
  },
  {
   "cell_type": "code",
   "execution_count": 39,
   "id": "009bda27-589f-4666-be33-9163a6819c2b",
   "metadata": {},
   "outputs": [
    {
     "ename": "ValueError",
     "evalue": "substring not found",
     "output_type": "error",
     "traceback": [
      "\u001b[1;31m---------------------------------------------------------------------------\u001b[0m",
      "\u001b[1;31mValueError\u001b[0m                                Traceback (most recent call last)",
      "Cell \u001b[1;32mIn[39], line 1\u001b[0m\n\u001b[1;32m----> 1\u001b[0m \u001b[38;5;28mprint\u001b[39m(sentence\u001b[38;5;241m.\u001b[39mindex(\u001b[38;5;124m\"\u001b[39m\u001b[38;5;124mz\u001b[39m\u001b[38;5;124m\"\u001b[39m))\n",
      "\u001b[1;31mValueError\u001b[0m: substring not found"
     ]
    }
   ],
   "source": [
    "print(sentence.index(\"z\"))"
   ]
  },
  {
   "cell_type": "code",
   "execution_count": 41,
   "id": "f9f18788-b614-4798-8361-ced85abe8cb1",
   "metadata": {},
   "outputs": [
    {
     "name": "stdout",
     "output_type": "stream",
     "text": [
      "-1\n"
     ]
    }
   ],
   "source": [
    "print(sentence.find(\"z\"))"
   ]
  },
  {
   "cell_type": "code",
   "execution_count": 43,
   "id": "fff1d0ba-62fa-4aaf-9abf-4f09faee3fa8",
   "metadata": {},
   "outputs": [
    {
     "name": "stdout",
     "output_type": "stream",
     "text": [
      "False\n"
     ]
    }
   ],
   "source": [
    "print(sentence.startswith('E'))"
   ]
  },
  {
   "cell_type": "code",
   "execution_count": 45,
   "id": "294ba274-385b-4dae-b587-6706638102f4",
   "metadata": {},
   "outputs": [
    {
     "name": "stdout",
     "output_type": "stream",
     "text": [
      "False\n"
     ]
    }
   ],
   "source": [
    "print(sentence.startswith('S'))"
   ]
  },
  {
   "cell_type": "code",
   "execution_count": 47,
   "id": "9f936dcf-0791-44be-a563-abced1d185e2",
   "metadata": {},
   "outputs": [
    {
     "name": "stdout",
     "output_type": "stream",
     "text": [
      "True\n"
     ]
    }
   ],
   "source": [
    "print(sentence.startswith('H'))"
   ]
  },
  {
   "cell_type": "code",
   "execution_count": 49,
   "id": "36dff5c7-417e-410f-a35a-6754bf31d284",
   "metadata": {},
   "outputs": [
    {
     "ename": "TypeError",
     "evalue": "'str' object is not callable",
     "output_type": "error",
     "traceback": [
      "\u001b[1;31m---------------------------------------------------------------------------\u001b[0m",
      "\u001b[1;31mTypeError\u001b[0m                                 Traceback (most recent call last)",
      "Cell \u001b[1;32mIn[49], line 1\u001b[0m\n\u001b[1;32m----> 1\u001b[0m \u001b[38;5;28mprint\u001b[39m(sentence(\u001b[38;5;124m'\u001b[39m\u001b[38;5;124mstring\u001b[39m\u001b[38;5;124m'\u001b[39m,\u001b[38;5;124m'\u001b[39m\u001b[38;5;124mlist\u001b[39m\u001b[38;5;124m'\u001b[39m))\n",
      "\u001b[1;31mTypeError\u001b[0m: 'str' object is not callable"
     ]
    }
   ],
   "source": [
    "print(sentence('string','list'))"
   ]
  },
  {
   "cell_type": "code",
   "execution_count": 51,
   "id": "b3a5ee60-0ef9-401b-9ad9-75b24dcf605d",
   "metadata": {},
   "outputs": [
    {
     "name": "stdout",
     "output_type": "stream",
     "text": [
      "Hello,Everyone\n"
     ]
    }
   ],
   "source": [
    "print(sentence.replace('String','list'))"
   ]
  },
  {
   "cell_type": "code",
   "execution_count": 53,
   "id": "c7f4e81a-1804-4a98-be9f-23b8aaf45e1d",
   "metadata": {},
   "outputs": [
    {
     "name": "stdout",
     "output_type": "stream",
     "text": [
      "Hi,Everyone\n"
     ]
    }
   ],
   "source": [
    "print(sentence.replace('Hello','Hi'))"
   ]
  },
  {
   "cell_type": "code",
   "execution_count": 55,
   "id": "a0f37625-168a-4ec8-b543-57fc6f6bc5a0",
   "metadata": {},
   "outputs": [
    {
     "name": "stdout",
     "output_type": "stream",
     "text": [
      "['Hello,Everyone']\n"
     ]
    }
   ],
   "source": [
    "print(sentence.split())"
   ]
  },
  {
   "cell_type": "code",
   "execution_count": 59,
   "id": "14cd4535-1a9f-4ebb-829e-2f023ce40a49",
   "metadata": {},
   "outputs": [
    {
     "name": "stdout",
     "output_type": "stream",
     "text": [
      "['hello', 'Everybody']\n"
     ]
    }
   ],
   "source": [
    "splitline = 'hello\\nEverybody'\n",
    "print(splitline.splitlines())"
   ]
  },
  {
   "cell_type": "code",
   "execution_count": 61,
   "id": "9e6d710b-b77e-46bf-8119-2ae525a19cc9",
   "metadata": {},
   "outputs": [
    {
     "name": "stdout",
     "output_type": "stream",
     "text": [
      "My name is rahul\n"
     ]
    }
   ],
   "source": [
    "print(name.ljust(10,'d'))"
   ]
  },
  {
   "cell_type": "code",
   "execution_count": 63,
   "id": "f14cc7e3-097c-40dc-94ad-4f21d81d993c",
   "metadata": {},
   "outputs": [
    {
     "name": "stdout",
     "output_type": "stream",
     "text": [
      "----------------------------------------My name is rahul\n"
     ]
    }
   ],
   "source": [
    "print(name.rjust(56,'-'))"
   ]
  },
  {
   "cell_type": "code",
   "execution_count": 65,
   "id": "8df152f0-912a-49cb-a0aa-861d3af195c3",
   "metadata": {},
   "outputs": [
    {
     "name": "stdout",
     "output_type": "stream",
     "text": [
      "---My name is rahul---\n"
     ]
    }
   ],
   "source": [
    "print(name.center(22,'-'))"
   ]
  },
  {
   "cell_type": "code",
   "execution_count": 67,
   "id": "c3d68b64-b480-4c6c-b40f-0a55daaab78a",
   "metadata": {},
   "outputs": [
    {
     "name": "stdout",
     "output_type": "stream",
     "text": [
      "0000My name is rahul\n"
     ]
    }
   ],
   "source": [
    "print(name.zfill(20))"
   ]
  },
  {
   "cell_type": "code",
   "execution_count": 71,
   "id": "7ab73091-aa6e-438b-be62-2588328dd0c2",
   "metadata": {},
   "outputs": [
    {
     "name": "stdout",
     "output_type": "stream",
     "text": [
      "True\n",
      "True\n",
      "True\n"
     ]
    }
   ],
   "source": [
    "str0 = '123'\n",
    "str1 = 'abc124'\n",
    "str2 = 'Abc'\n",
    "print(str0.isdigit())\n",
    "print(str1.isalnum())\n",
    "print(str2.isalpha())"
   ]
  },
  {
   "cell_type": "code",
   "execution_count": 73,
   "id": "9174b7ac-2fbe-409c-bfde-4c83d1032ab8",
   "metadata": {},
   "outputs": [
    {
     "name": "stdout",
     "output_type": "stream",
     "text": [
      "b'My name is rahul'\n"
     ]
    }
   ],
   "source": [
    "print(name.encode())"
   ]
  },
  {
   "cell_type": "code",
   "execution_count": 77,
   "id": "6c3c8478-d763-41ca-9c6c-0c8fa8c0983a",
   "metadata": {},
   "outputs": [
    {
     "name": "stdout",
     "output_type": "stream",
     "text": [
      "b'My name is rahul'\n"
     ]
    }
   ],
   "source": [
    "encode = name.encode()\n",
    "print(encode)"
   ]
  },
  {
   "cell_type": "code",
   "execution_count": 79,
   "id": "e03c0b4c-66a6-4969-995c-2da885ec62e8",
   "metadata": {},
   "outputs": [
    {
     "name": "stdout",
     "output_type": "stream",
     "text": [
      "My name is rahul\n"
     ]
    }
   ],
   "source": [
    "print(encode.decode())"
   ]
  },
  {
   "cell_type": "code",
   "execution_count": null,
   "id": "a05ba729-8c1a-4e3b-8bfd-a4291dd90cf4",
   "metadata": {},
   "outputs": [],
   "source": []
  }
 ],
 "metadata": {
  "kernelspec": {
   "display_name": "Python [conda env:base] *",
   "language": "python",
   "name": "conda-base-py"
  },
  "language_info": {
   "codemirror_mode": {
    "name": "ipython",
    "version": 3
   },
   "file_extension": ".py",
   "mimetype": "text/x-python",
   "name": "python",
   "nbconvert_exporter": "python",
   "pygments_lexer": "ipython3",
   "version": "3.12.7"
  }
 },
 "nbformat": 4,
 "nbformat_minor": 5
}
